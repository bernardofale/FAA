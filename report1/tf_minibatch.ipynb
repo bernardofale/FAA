{
 "cells": [
  {
   "cell_type": "code",
   "execution_count": 1,
   "metadata": {},
   "outputs": [],
   "source": [
    "import numpy as np\n",
    "\n",
    "# Load the data\n",
    "X = np.load('archive-2/Sign-language-digits-dataset/X.npy')\n",
    "\n",
    "# flatten the X matrix\n",
    "X = X.reshape(X.shape[0], -1)\n",
    "\n",
    "Y = np.zeros((X.shape[0], 10))\n",
    "Y[0:204, 9] = 1\n",
    "Y[204:409, 0] = 1\n",
    "Y[409:615, 7] = 1\n",
    "Y[615:822, 6] = 1\n",
    "Y[822:1028, 1] = 1\n",
    "Y[1028:1236, 8] = 1\n",
    "Y[1236:1443, 4] = 1\n",
    "Y[1443:1649, 3] = 1\n",
    "Y[1649:1855, 2] = 1\n",
    "Y[1855:, 5] = 1\n",
    "\n",
    "indices = np.argmax(Y, axis=1)\n",
    "Y = np.expand_dims(indices, axis=1)"
   ]
  },
  {
   "cell_type": "code",
   "execution_count": 2,
   "metadata": {},
   "outputs": [
    {
     "name": "stderr",
     "output_type": "stream",
     "text": [
      "2023-11-06 23:46:02.876047: I tensorflow/core/platform/cpu_feature_guard.cc:182] This TensorFlow binary is optimized to use available CPU instructions in performance-critical operations.\n",
      "To enable the following instructions: SSE4.1 SSE4.2 AVX AVX2 AVX_VNNI FMA, in other operations, rebuild TensorFlow with the appropriate compiler flags.\n"
     ]
    }
   ],
   "source": [
    "# Split data into train and test\n",
    "\n",
    "import numpy as np\n",
    "from tensorflow.keras.utils import to_categorical\n",
    "\n",
    "data = np.concatenate((Y, X), axis=1)\n",
    "\n",
    "np.random.shuffle(data)\n",
    "\n",
    "# Extract features (pixel values) and labels\n",
    "X = data[:, 1:]  # Pixel values\n",
    "y = data[:, 0]   # Labels\n",
    "\n",
    "# Convert labels to one-hot encoding\n",
    "y_one_hot = to_categorical(y, num_classes=10)  # Assuming you have 10 classes (digits 0 to 9)\n",
    "\n",
    "# Now, 'X' contains the pixel values, and 'y_one_hot' contains the one-hot encoded labels\n",
    "\n",
    "# from sklearn.decomposition import PCA\n",
    "\n",
    "# pca = PCA(n_components=2025)\n",
    "# X = pca.fit_transform(X)\n",
    "\n",
    "# Split the data into training, validation and testing sets (you may need to adjust the split ratio)\n",
    "from sklearn.model_selection import train_test_split\n",
    "\n",
    "X_train, X_test, y_train, y_test = train_test_split(X, y_one_hot, test_size=0.1, random_state=42)\n",
    "\n",
    "X_test, X_val, y_test, y_val = train_test_split(X_test, y_test, test_size=0.5, random_state=42)\n",
    "\n",
    "# Now, you can use X_train and y_train to train your neural network, and X_test and y_test for testing."
   ]
  },
  {
   "cell_type": "code",
   "execution_count": 3,
   "metadata": {},
   "outputs": [],
   "source": [
    "def normalize(X):\n",
    "    mean = np.mean(X, axis=0)\n",
    "    std = np.std(X, axis=0)\n",
    "    normalized_data = (X - mean) / std\n",
    "    return normalized_data, mean, std"
   ]
  },
  {
   "cell_type": "code",
   "execution_count": 4,
   "metadata": {},
   "outputs": [
    {
     "name": "stderr",
     "output_type": "stream",
     "text": [
      "2023-11-06 23:46:04.547270: I tensorflow/core/common_runtime/process_util.cc:146] Creating new thread pool with default inter op setting: 2. Tune using inter_op_parallelism_threads for best performance.\n"
     ]
    }
   ],
   "source": [
    "import tensorflow as tf\n",
    "from tensorflow.keras import Sequential\n",
    "from tensorflow.keras.layers import Dense\n",
    "\n",
    "# # Define the number of neurons in the hidden layers\n",
    "# n_neurons_hidden1 = 500  # Number of neurons in the first hidden layer\n",
    "# n_neurons_hidden2 = 250   # Number of neurons in the second hidden layer (you can adjust this as needed)\n",
    "\n",
    "# # Create a Sequential model\n",
    "# model = Sequential()\n",
    "\n",
    "# # Input layer (4096 neurons, assuming your images are 64x64 pixels)\n",
    "# model.add(Dense(2025, input_shape=(2025,)))\n",
    "\n",
    "# # First hidden layer\n",
    "# model.add(Dense(n_neurons_hidden1, activation='relu'))\n",
    "\n",
    "# # Second hidden layer\n",
    "# model.add(Dense(n_neurons_hidden2, activation='relu'))\n",
    "\n",
    "# # Output layer (10 neurons for 10 classes)\n",
    "# model.add(Dense(10, activation='softmax'))\n",
    "\n",
    "# # Compile the model\n",
    "# model.compile(optimizer='adam', loss='categorical_crossentropy', metrics=['accuracy'])\n",
    "\n",
    "# # Print a summary of the model's architecture\n",
    "# model.summary()\n",
    "\n",
    "\n",
    "# Function to build a simple CNN model\n",
    "def build_cnn_model(input_shape, num_classes):\n",
    "    model = tf.keras.Sequential()\n",
    "    \n",
    "    # Convolutional and pooling layers\n",
    "    model.add(tf.keras.layers.Conv2D(32, (7, 7), activation='relu', input_shape=input_shape))\n",
    "    model.add(tf.keras.layers.MaxPooling2D((2, 2)))\n",
    "    model.add(tf.keras.layers.Conv2D(64, (7, 7), activation='relu', input_shape=input_shape))\n",
    "    model.add(tf.keras.layers.MaxPooling2D((2, 2)))\n",
    "    \n",
    "    # Flatten the output before fully connected layers\n",
    "    model.add(tf.keras.layers.Flatten())\n",
    "    \n",
    "    # Fully connected layers\n",
    "    model.add(tf.keras.layers.Dense(128, activation='relu'))\n",
    "    model.add(tf.keras.layers.Dense(num_classes, activation='softmax'))\n",
    "    \n",
    "    return model\n",
    "\n",
    "# Example usage\n",
    "input_shape = (64, 64, 1)  # Adjust the input shape to match your image size and channels\n",
    "num_classes = 10  # Number of output classes\n",
    "\n",
    "# Create the CNN model\n",
    "model = cnn_model = build_cnn_model(input_shape, num_classes)\n",
    "\n",
    "# Compile the model with an appropriate optimizer and loss function\n",
    "cnn_model.compile(optimizer='adam', loss='categorical_crossentropy', metrics=['accuracy'])\n",
    "\n"
   ]
  },
  {
   "cell_type": "code",
   "execution_count": 5,
   "metadata": {},
   "outputs": [
    {
     "name": "stdout",
     "output_type": "stream",
     "text": [
      "Epoch 1/15\n",
      "75/75 [==============================] - 11s 142ms/step - loss: 1.7854 - accuracy: 0.3590 - val_loss: 0.9274 - val_accuracy: 0.6827\n",
      "Epoch 2/15\n",
      "75/75 [==============================] - 11s 146ms/step - loss: 0.7378 - accuracy: 0.7628 - val_loss: 0.6668 - val_accuracy: 0.7981\n",
      "Epoch 3/15\n",
      "75/75 [==============================] - 11s 153ms/step - loss: 0.5134 - accuracy: 0.8431 - val_loss: 0.4866 - val_accuracy: 0.8173\n",
      "Epoch 4/15\n",
      "75/75 [==============================] - 13s 167ms/step - loss: 0.3865 - accuracy: 0.8879 - val_loss: 0.4267 - val_accuracy: 0.9038\n",
      "Epoch 5/15\n",
      "75/75 [==============================] - 13s 167ms/step - loss: 0.2749 - accuracy: 0.9229 - val_loss: 0.3301 - val_accuracy: 0.9135\n",
      "Epoch 6/15\n",
      "75/75 [==============================] - 12s 161ms/step - loss: 0.1862 - accuracy: 0.9407 - val_loss: 0.2712 - val_accuracy: 0.9327\n",
      "Epoch 7/15\n",
      "75/75 [==============================] - 11s 152ms/step - loss: 0.1531 - accuracy: 0.9558 - val_loss: 0.2534 - val_accuracy: 0.9231\n",
      "Epoch 8/15\n",
      "75/75 [==============================] - 10s 138ms/step - loss: 0.1008 - accuracy: 0.9730 - val_loss: 0.1886 - val_accuracy: 0.9423\n",
      "Epoch 9/15\n",
      "75/75 [==============================] - 11s 147ms/step - loss: 0.0805 - accuracy: 0.9795 - val_loss: 0.2426 - val_accuracy: 0.9327\n",
      "Epoch 10/15\n",
      "75/75 [==============================] - 12s 154ms/step - loss: 0.0548 - accuracy: 0.9854 - val_loss: 0.2178 - val_accuracy: 0.9423\n",
      "Epoch 11/15\n",
      "75/75 [==============================] - 11s 149ms/step - loss: 0.0249 - accuracy: 0.9962 - val_loss: 0.2082 - val_accuracy: 0.9423\n",
      "Epoch 12/15\n",
      "75/75 [==============================] - 11s 144ms/step - loss: 0.0152 - accuracy: 0.9984 - val_loss: 0.2450 - val_accuracy: 0.9327\n",
      "Epoch 13/15\n",
      "75/75 [==============================] - 11s 150ms/step - loss: 0.0134 - accuracy: 0.9973 - val_loss: 0.2593 - val_accuracy: 0.9327\n",
      "Epoch 14/15\n",
      "75/75 [==============================] - 11s 152ms/step - loss: 0.0147 - accuracy: 0.9973 - val_loss: 0.2461 - val_accuracy: 0.9327\n",
      "Epoch 15/15\n",
      "75/75 [==============================] - 11s 145ms/step - loss: 0.0059 - accuracy: 1.0000 - val_loss: 0.2364 - val_accuracy: 0.9423\n",
      "4/4 [==============================] - 0s 51ms/step - loss: 0.1489 - accuracy: 0.9612\n",
      "Test Accuracy: 0.9611650705337524\n"
     ]
    }
   ],
   "source": [
    "# Assuming you have already created and compiled your model\n",
    "\n",
    "X_train = X_train.reshape(X_train.shape[0], 64, 64, 1)\n",
    "X_val = X_val.reshape(X_val.shape[0], 64, 64, 1)\n",
    "X_test = X_test.reshape(X_test.shape[0], 64, 64, 1)\n",
    "\n",
    "# Train the model\n",
    "history = model.fit(X_train, y_train, batch_size=25, epochs=15, validation_data=(X_val, y_val))\n",
    "\n",
    "# After training, you can evaluate the model on the test data\n",
    "test_loss, test_accuracy = model.evaluate(X_test, y_test)\n",
    "\n",
    "# Print the test accuracy\n",
    "print(f'Test Accuracy: {test_accuracy}')\n"
   ]
  },
  {
   "cell_type": "code",
   "execution_count": 8,
   "metadata": {},
   "outputs": [
    {
     "data": {
      "image/png": "[encoded data removed]",
      "text/plain": [
       "<Figure size 640x480 with 1 Axes>"
      ]
     },
     "metadata": {},
     "output_type": "display_data"
    }
   ],
   "source": [
    "# plot the loss over epochs\n",
    "import matplotlib.pyplot as plt\n",
    "\n",
    "plt.plot(history.history['loss'])\n",
    "plt.plot(history.history['val_loss'])\n",
    "plt.title('Model Loss')\n",
    "plt.ylabel('Loss')\n",
    "plt.xlabel('Epoch')\n",
    "plt.legend(['Train', 'Validation'])\n",
    "plt.show()"
   ]
  },
  {
   "cell_type": "code",
   "execution_count": 19,
   "metadata": {},
   "outputs": [
    {
     "name": "stdout",
     "output_type": "stream",
     "text": [
      "1/1 [==============================] - 0s 17ms/step\n"
     ]
    },
    {
     "data": {
      "image/png": "[encoded data removed]",
      "text/plain": [
       "<Figure size 400x400 with 1 Axes>"
      ]
     },
     "metadata": {},
     "output_type": "display_data"
    }
   ],
   "source": [
    "import numpy as np\n",
    "import matplotlib.pyplot as plt\n",
    "\n",
    "def plot_random_image_and_predict(model, X, y, class_labels):\n",
    "    # Select a random index from the training set\n",
    "    random_index = np.random.randint(0, len(X))\n",
    "    \n",
    "    # Get the image and true label\n",
    "    random_image = X[random_index]\n",
    "    true_label = y[random_index]\n",
    "    \n",
    "    # Reshape the image if it's flattened\n",
    "    if random_image.shape != (64, 64):\n",
    "        random_image = random_image.reshape(64, 64)\n",
    "    \n",
    "    # Make a prediction using the model\n",
    "    # predicted = model.predict(random_image.reshape(1, -1))\n",
    "    predicted = model.predict(random_image.reshape(1, 64, 64, 1))\n",
    "    predicted_label = np.argmax(predicted)\n",
    "    \n",
    "    # Plot the image\n",
    "    plt.figure(figsize=(4, 4))\n",
    "    plt.imshow(random_image, cmap='gray')\n",
    "    plt.title(f\"True Label: {class_labels[np.argmax(true_label)]}\\nPredicted Label: {class_labels[predicted_label]}\")\n",
    "    plt.axis('off')\n",
    "    plt.show()\n",
    "\n",
    "# Assuming you have a list of class labels\n",
    "class_labels = ['0', '1', '2', '3', '4', '5', '6', '7', '8', '9']\n",
    "\n",
    "# Call the function to display a random image and make a prediction\n",
    "plot_random_image_and_predict(model, X_test, y_test, class_labels)\n"
   ]
  }
 ],
 "metadata": {
  "kernelspec": {
   "display_name": "base",
   "language": "python",
   "name": "python3"
  },
  "language_info": {
   "codemirror_mode": {
    "name": "ipython",
    "version": 3
   },
   "file_extension": ".py",
   "mimetype": "text/x-python",
   "name": "python",
   "nbconvert_exporter": "python",
   "pygments_lexer": "ipython3",
   "version": "3.11.4"
  }
 },
 "nbformat": 4,
 "nbformat_minor": 2
}
